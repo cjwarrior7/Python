{
 "cells": [
  {
   "cell_type": "code",
   "execution_count": 15,
   "metadata": {},
   "outputs": [
    {
     "name": "stdout",
     "output_type": "stream",
     "text": [
      "120\n",
      "7\n",
      "6\n",
      "3.141592653589793\n",
      "46\n",
      "15\n",
      "6\n"
     ]
    }
   ],
   "source": [
    "import math \n",
    "print(math.factorial(5))\n",
    "print(math.floor(15/2))\n",
    "print(math.gcd(12,6))\n",
    "print(math.pi)\n",
    "print(sum([12,6,13,15]))\n",
    "print(max([12,6,13,15]))\n",
    "print(min([12,6,13,15]))"
   ]
  },
  {
   "cell_type": "code",
   "execution_count": 8,
   "metadata": {},
   "outputs": [
    {
     "name": "stdout",
     "output_type": "stream",
     "text": [
      "362880\n"
     ]
    }
   ],
   "source": [
    "from math import factorial \n",
    "print(factorial(9))"
   ]
  },
  {
   "cell_type": "code",
   "execution_count": 7,
   "metadata": {},
   "outputs": [
    {
     "name": "stdout",
     "output_type": "stream",
     "text": [
      "5040\n"
     ]
    }
   ],
   "source": [
    "from math import factorial as fact\n",
    "print(fact(7))"
   ]
  },
  {
   "cell_type": "code",
   "execution_count": 41,
   "metadata": {},
   "outputs": [
    {
     "name": "stdout",
     "output_type": "stream",
     "text": [
      "['/usr/local/lib/python3.5/dist-packages/ipykernel_launcher.py', '-f', '/run/user/0/jupyter/kernel-801eac6f-f620-4e44-8935-a091ae068c54.json']\n"
     ]
    }
   ],
   "source": [
    "# sys modules provide access to variables and functions related to python interpreter \n",
    "\n",
    "import sys\n",
    "\n",
    "def Data():\n",
    "    print(sys.argv)\n",
    "    \n",
    "def printsum():\n",
    "    print(int(sys.argv[1])+int(sys.argv[2]))\n",
    "    \n",
    "Data()\n"
   ]
  },
  {
   "cell_type": "code",
   "execution_count": 42,
   "metadata": {},
   "outputs": [
    {
     "ename": "SyntaxError",
     "evalue": "invalid syntax (<ipython-input-42-45a1cad56483>, line 2)",
     "output_type": "error",
     "traceback": [
      "\u001b[0;36m  File \u001b[0;32m\"<ipython-input-42-45a1cad56483>\"\u001b[0;36m, line \u001b[0;32m2\u001b[0m\n\u001b[0;31m    In []:1 5\u001b[0m\n\u001b[0m        ^\u001b[0m\n\u001b[0;31mSyntaxError\u001b[0m\u001b[0;31m:\u001b[0m invalid syntax\n"
     ]
    }
   ],
   "source": [
    "['/usr/local/lib/python3.5/dist-packages/ipykernel_launcher.py', '-f', '/run/user/0/jupyter/kernel-801eac6f-f620-4e44-8935-a091ae068c54.json']\n",
    "In []:1 5\n",
    "printsum()\n"
   ]
  },
  {
   "cell_type": "code",
   "execution_count": null,
   "metadata": {},
   "outputs": [],
   "source": []
  },
  {
   "cell_type": "code",
   "execution_count": null,
   "metadata": {},
   "outputs": [],
   "source": []
  }
 ],
 "metadata": {
  "kernelspec": {
   "display_name": "Python 3",
   "language": "python",
   "name": "python3"
  },
  "language_info": {
   "codemirror_mode": {
    "name": "ipython",
    "version": 3
   },
   "file_extension": ".py",
   "mimetype": "text/x-python",
   "name": "python",
   "nbconvert_exporter": "python",
   "pygments_lexer": "ipython3",
   "version": "3.5.3"
  }
 },
 "nbformat": 4,
 "nbformat_minor": 2
}
