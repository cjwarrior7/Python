{
 "cells": [
  {
   "cell_type": "code",
   "execution_count": 1,
   "metadata": {},
   "outputs": [],
   "source": [
    "#Palindrome\n",
    "def palindrome(name):\n",
    "    flag=0\n",
    "    mid=int((len(name)-1)/2)\n",
    "    for i in range(0,mid):\n",
    "        if name[i]==name[len(name)-1-i]:\n",
    "            flag=1\n",
    "        else:\n",
    "            print(\"not a palindrome\")\n",
    "            flag=0\n",
    "            break\n",
    "          \n",
    "    if flag==1:\n",
    "         print(\"It is palindrome\")"
   ]
  },
  {
   "cell_type": "code",
   "execution_count": 2,
   "metadata": {},
   "outputs": [
    {
     "name": "stdout",
     "output_type": "stream",
     "text": [
      "It is palindrome\n"
     ]
    }
   ],
   "source": [
    "palindrome(\"nitin\")"
   ]
  },
  {
   "cell_type": "code",
   "execution_count": 3,
   "metadata": {},
   "outputs": [
    {
     "name": "stdout",
     "output_type": "stream",
     "text": [
      "enter number for which p is calculated:\n",
      "2\n",
      "enter number for which r is calculated:\n",
      "4\n",
      "enter number for which t is calculated:\n",
      "6\n",
      "simple_intrest is:0.480000\n"
     ]
    }
   ],
   "source": [
    "#Simple intrest\n",
    "print(\"enter number for which p is calculated:\")\n",
    "p=float(input())\n",
    "print(\"enter number for which r is calculated:\")\n",
    "r=float(input())\n",
    "print(\"enter number for which t is calculated:\")\n",
    "t=float(input())\n",
    "\n",
    "def simple_intrest(p,r,t):\n",
    "    simp_intre=((p*r*t)/100)\n",
    "    print(\"simple_intrest is:%f\"%(simp_intre))\n",
    "simple_intrest(p,r,t)      "
   ]
  },
  {
   "cell_type": "code",
   "execution_count": 4,
   "metadata": {},
   "outputs": [
    {
     "name": "stdout",
     "output_type": "stream",
     "text": [
      "enter number for which factorial is calculated:\n",
      "5\n",
      "factorial of 5 is:120\n"
     ]
    }
   ],
   "source": [
    "print(\"enter number for which factorial is calculated:\")\n",
    "n=int(input())\n",
    "def fact(num):\n",
    "    if(num==1):\n",
    "        return 1\n",
    "    return num*fact(num-1)\n",
    "        \n",
    "print(\"factorial of %d is:%d\"%(n,fact(n)))\n"
   ]
  },
  {
   "cell_type": "code",
   "execution_count": 5,
   "metadata": {},
   "outputs": [
    {
     "name": "stdout",
     "output_type": "stream",
     "text": [
      "5\n",
      "the number is odd\n"
     ]
    }
   ],
   "source": [
    "\n",
    "#odd-even\n",
    "n=int(input())\n",
    "\n",
    "if(n%2==0):\n",
    "    print(\"the number is even\")\n",
    "else:\n",
    "    print(\"the number is odd\") "
   ]
  },
  {
   "cell_type": "code",
   "execution_count": 6,
   "metadata": {},
   "outputs": [],
   "source": [
    "def revere_string(name):\n",
    "    i=len(name)-1\n",
    "    while(i >=0):\n",
    "        print(\"%s\"%(name[i]),end=\" \")\n",
    "        i=i-1"
   ]
  },
  {
   "cell_type": "code",
   "execution_count": 7,
   "metadata": {},
   "outputs": [
    {
     "name": "stdout",
     "output_type": "stream",
     "text": [
      "karan\n",
      "the reverse is:\n",
      "n a r a k "
     ]
    }
   ],
   "source": [
    "str=input()\n",
    "print(\"the reverse is:\")\n",
    "revere_string(str)"
   ]
  },
  {
   "cell_type": "code",
   "execution_count": null,
   "metadata": {},
   "outputs": [],
   "source": []
  }
 ],
 "metadata": {
  "kernelspec": {
   "display_name": "Python 3",
   "language": "python",
   "name": "python3"
  },
  "language_info": {
   "codemirror_mode": {
    "name": "ipython",
    "version": 3
   },
   "file_extension": ".py",
   "mimetype": "text/x-python",
   "name": "python",
   "nbconvert_exporter": "python",
   "pygments_lexer": "ipython3",
   "version": "3.5.3"
  }
 },
 "nbformat": 4,
 "nbformat_minor": 2
}
