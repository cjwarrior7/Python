{
 "cells": [
  {
   "cell_type": "code",
   "execution_count": 1,
   "metadata": {},
   "outputs": [
    {
     "name": "stdout",
     "output_type": "stream",
     "text": [
      "5\n",
      "* \n",
      "* * \n",
      "* * * \n",
      "* * * * \n",
      "* * * * * \n"
     ]
    }
   ],
   "source": [
    "n=int(input())# step 1\n",
    "\n",
    "for i in range(0,n): \n",
    "   \n",
    "    for cst in range(0,i+1): # step 2\n",
    "        print(\"*\",end=\" \")\n",
    "        cst=cst+1\n",
    "   \n",
    "    \n",
    "    print(\"\\r\") # 3.prep"
   ]
  },
  {
   "cell_type": "code",
   "execution_count": 2,
   "metadata": {},
   "outputs": [
    {
     "name": "stdout",
     "output_type": "stream",
     "text": [
      "5\n",
      "          * \n",
      "        * * \n",
      "      * * * \n",
      "    * * * * \n",
      "  * * * * * \n"
     ]
    }
   ],
   "source": [
    "n=int(input())# step 1\n",
    "nsp=n\n",
    "nst=1\n",
    "for i in range(0,n):\n",
    "    csp=0\n",
    "    \n",
    "    for csp in range(0,nsp):\n",
    "            print(\" \",end=\" \")\n",
    "            csp=csp+1\n",
    "    \n",
    "    for cst in range(0,nst): # step 2\n",
    "            print(\"*\",end=\" \")\n",
    "            cst=cst+1\n",
    "   \n",
    "    \n",
    "    print(\"\\r\")\n",
    "    nsp=nsp-1\n",
    "    nst=nst+1 # 3.prep"
   ]
  },
  {
   "cell_type": "code",
   "execution_count": 3,
   "metadata": {},
   "outputs": [
    {
     "name": "stdout",
     "output_type": "stream",
     "text": [
      "9\n",
      "* \n",
      "* * \n",
      "* * * \n",
      "* * * * \n",
      "* * * * * \n",
      "* * * * \n",
      "* * * \n",
      "* * \n",
      "* \n"
     ]
    }
   ],
   "source": [
    "n=int(input())# step 1\n",
    "nst=1\n",
    "for i in range(0,n):\n",
    "    for j in range(0,nst):\n",
    "        print(\"*\",end=\" \")\n",
    "        j=j+1\n",
    "\n",
    "\n",
    "    if i>=((n-1)/2):\n",
    "        nst=nst-1\n",
    "        print(\"\\r\")\n",
    "    else:\n",
    "        nst=nst+1\n",
    "        print(\"\\r\")"
   ]
  },
  {
   "cell_type": "code",
   "execution_count": 4,
   "metadata": {},
   "outputs": [
    {
     "name": "stdout",
     "output_type": "stream",
     "text": [
      "5\n",
      "* \n",
      "* * \n",
      "* * * \n",
      "* * * * \n",
      "* * * * * \n",
      "* * * * * * \n"
     ]
    }
   ],
   "source": [
    "n=int(input())# step 1 ## using while loop\n",
    "i=0\n",
    "while i<=n: \n",
    "    cst=0\n",
    "    while cst<=i: # step 2\n",
    "        print(\"*\",end=\" \")\n",
    "        cst=cst+1\n",
    "    i=i+ 1\n",
    "    print(\"\\r\")# 3.prep"
   ]
  },
  {
   "cell_type": "code",
   "execution_count": null,
   "metadata": {},
   "outputs": [],
   "source": []
  }
 ],
 "metadata": {
  "kernelspec": {
   "display_name": "Python 3",
   "language": "python",
   "name": "python3"
  },
  "language_info": {
   "codemirror_mode": {
    "name": "ipython",
    "version": 3
   },
   "file_extension": ".py",
   "mimetype": "text/x-python",
   "name": "python",
   "nbconvert_exporter": "python",
   "pygments_lexer": "ipython3",
   "version": "3.5.3"
  }
 },
 "nbformat": 4,
 "nbformat_minor": 2
}
