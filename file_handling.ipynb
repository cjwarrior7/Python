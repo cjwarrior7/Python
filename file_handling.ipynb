{
 "cells": [
  {
   "cell_type": "code",
   "execution_count": 3,
   "metadata": {},
   "outputs": [
    {
     "data": {
      "text/plain": [
       "'hi this is testing phase.my file handling in python.\\n\\n'"
      ]
     },
     "execution_count": 3,
     "metadata": {},
     "output_type": "execute_result"
    }
   ],
   "source": [
    "f=open(\"sample.txt\",'r')\n",
    "f.read()"
   ]
  },
  {
   "cell_type": "code",
   "execution_count": 4,
   "metadata": {},
   "outputs": [],
   "source": [
    "#f.close()"
   ]
  },
  {
   "cell_type": "code",
   "execution_count": 7,
   "metadata": {},
   "outputs": [
    {
     "name": "stdout",
     "output_type": "stream",
     "text": [
      "<class 'list'>\n"
     ]
    }
   ],
   "source": [
    "f=open(\"sample.txt\",\"w\")\n",
    "content=\"hello world\\n\"\n",
    "l=[content]*3\n",
    "print(type(l))\n",
    "f.writelines(l)\n",
    "f.close()"
   ]
  },
  {
   "cell_type": "markdown",
   "metadata": {},
   "source": [
    "## READING from a file "
   ]
  },
  {
   "cell_type": "code",
   "execution_count": 6,
   "metadata": {},
   "outputs": [
    {
     "name": "stdout",
     "output_type": "stream",
     "text": [
      "hello world\n",
      "hello world\n",
      "hello world\n",
      "\n",
      "<class 'str'>\n"
     ]
    }
   ],
   "source": [
    "f=open(\"sample.txt\",\"r\")\n",
    "l=f.read() #readlines(will read all lines) as list #readline(will only read one line)\n",
    "print(l)\n",
    "print(type(l))\n",
    "f.close()"
   ]
  },
  {
   "cell_type": "markdown",
   "metadata": {},
   "source": [
    "## READING using with open"
   ]
  },
  {
   "cell_type": "code",
   "execution_count": 1,
   "metadata": {},
   "outputs": [
    {
     "name": "stdout",
     "output_type": "stream",
     "text": [
      "False\n",
      "hello world\n",
      "hello world\n",
      "hello world\n",
      "\n"
     ]
    }
   ],
   "source": [
    "with open(\"sample.txt\",\"r\") as f:\n",
    "    print(f.closed)\n",
    "    print(f.read())\n",
    "    #automatically closes the file which ensure clean up is there"
   ]
  },
  {
   "cell_type": "code",
   "execution_count": 4,
   "metadata": {},
   "outputs": [
    {
     "name": "stdout",
     "output_type": "stream",
     "text": [
      "True\n"
     ]
    }
   ],
   "source": [
    "f.close()\n",
    "print(f.closed)"
   ]
  },
  {
   "cell_type": "code",
   "execution_count": 5,
   "metadata": {},
   "outputs": [
    {
     "name": "stdout",
     "output_type": "stream",
     "text": [
      " world\n",
      "hello world\n",
      "hello world\n",
      "\n"
     ]
    }
   ],
   "source": [
    "with open(\"sample.txt\",\"r\") as f:\n",
    "    f.seek(5) #skips first 5 character seek is used to point particular location with file handle\n",
    "    print(f.read())"
   ]
  },
  {
   "cell_type": "markdown",
   "metadata": {},
   "source": [
    "## Working with JSON"
   ]
  },
  {
   "cell_type": "code",
   "execution_count": 12,
   "metadata": {},
   "outputs": [
    {
     "name": "stdout",
     "output_type": "stream",
     "text": [
      "<class 'dict'>\n",
      "{'age': 30, 'name': 'A1'}\n"
     ]
    }
   ],
   "source": [
    "import json\n",
    "#python objects\n",
    "book={\"name\":\"learning python\",\"page\":320,\"authors\":[{\"name\":\"A1\",\"age\":30},{\"name\":\"A2\",\"age\":40}]}\n",
    "print(type(book))\n",
    "print(book['authors'][0])"
   ]
  },
  {
   "cell_type": "code",
   "execution_count": 13,
   "metadata": {},
   "outputs": [],
   "source": [
    "with open(\"myJsonfile.json\",'w') as f:\n",
    "    json.dump(book,f) #create file name as myJsonfile.json and data of book into it"
   ]
  },
  {
   "cell_type": "code",
   "execution_count": 16,
   "metadata": {},
   "outputs": [
    {
     "data": {
      "text/plain": [
       "'{\"page\": 320, \"authors\": [{\"age\": 30, \"name\": \"A1\"}, {\"age\": 40, \"name\": \"A2\"}], \"name\": \"learning python\"}'"
      ]
     },
     "execution_count": 16,
     "metadata": {},
     "output_type": "execute_result"
    }
   ],
   "source": [
    "json.dumps(book) #returns a string\n"
   ]
  },
  {
   "cell_type": "code",
   "execution_count": 17,
   "metadata": {},
   "outputs": [
    {
     "name": "stdout",
     "output_type": "stream",
     "text": [
      "<class 'str'>\n"
     ]
    }
   ],
   "source": [
    "s=json.dumps(book)\n",
    "print(type(s))"
   ]
  },
  {
   "cell_type": "code",
   "execution_count": 18,
   "metadata": {},
   "outputs": [
    {
     "name": "stdout",
     "output_type": "stream",
     "text": [
      "{'page': 320, 'authors': [{'age': 30, 'name': 'A1'}, {'age': 40, 'name': 'A2'}], 'name': 'learning python'}\n",
      "<class 'dict'>\n"
     ]
    }
   ],
   "source": [
    "#Deserialise string into object\n",
    "obj=json.loads(s)\n",
    "print(obj)\n",
    "print(type(obj))"
   ]
  },
  {
   "cell_type": "code",
   "execution_count": 21,
   "metadata": {},
   "outputs": [
    {
     "name": "stdout",
     "output_type": "stream",
     "text": [
      "{'authors': [{'age': 30, 'name': 'A1'}, {'age': 40, 'name': 'A2'}],\n",
      " 'name': 'learning python',\n",
      " 'page': 320}\n"
     ]
    }
   ],
   "source": [
    "import pprint #for heavy data use pprint\n",
    "with open(\"myJsonfile.json\",'r') as f: #load is use to read data from json file.\n",
    "    data=json.load(f)\n",
    "    pprint.pprint(data)"
   ]
  },
  {
   "cell_type": "markdown",
   "metadata": {},
   "source": [
    "## Exception handling in python"
   ]
  },
  {
   "cell_type": "code",
   "execution_count": 28,
   "metadata": {},
   "outputs": [
    {
     "name": "stdout",
     "output_type": "stream",
     "text": [
      "something went wrong\n",
      "<class 'Exception'>\n"
     ]
    }
   ],
   "source": [
    "try:\n",
    "    a=10/0\n",
    "    f=open(\"somemissingfile.txt\",'r')\n",
    "    \n",
    "except FileNotFoundError:\n",
    "    print(\"please reupload this file\")\n",
    "    \n",
    "except Exception:\n",
    "    print(\"something went wrong\")\n",
    "    print(Exception)"
   ]
  },
  {
   "cell_type": "code",
   "execution_count": 29,
   "metadata": {},
   "outputs": [
    {
     "name": "stdout",
     "output_type": "stream",
     "text": [
      "please reupload this file\n"
     ]
    }
   ],
   "source": [
    "try:\n",
    "    \n",
    "    f=open(\"somemissingfile.txt\",'r')\n",
    "    \n",
    "except FileNotFoundError:\n",
    "    print(\"please reupload this file\")try:\n",
    "    a=b\n",
    "    f=open(\"somemissingfile.txt\",'r')\n",
    "    \n",
    "except FileNotFoundError:\n",
    "    print(\"please reupload this file\")\n",
    "except NameError:\n",
    "    print(\"b is not defined\")\n",
    "except Exception:\n",
    "    print(\"something went wrong\")\n",
    "    print(Exception)\n",
    "    \n",
    "except Exception:\n",
    "    print(\"something went wrong\")\n",
    "    print(Exception)"
   ]
  },
  {
   "cell_type": "code",
   "execution_count": 2,
   "metadata": {},
   "outputs": [
    {
     "name": "stdout",
     "output_type": "stream",
     "text": [
      "<class 'NameError'>\n",
      "b is not defined\n"
     ]
    }
   ],
   "source": [
    "try:\n",
    "    a=b\n",
    "    f=open(\"somemissingfile.txt\",'r')\n",
    "    \n",
    "except FileNotFoundError:\n",
    "    print(\"please reupload this file\")\n",
    "except NameError:\n",
    "    print(\"b is not defined\")\n",
    "    print(NameError)\n",
    "except Exception:\n",
    "    print(\"something went wrong\")\n",
    "    print(Exception)\n",
    "else:\n",
    "    print(\"try executed without any error\")\n",
    "    print(\"Form submitted successfully\")"
   ]
  },
  {
   "cell_type": "code",
   "execution_count": 6,
   "metadata": {},
   "outputs": [
    {
     "name": "stdout",
     "output_type": "stream",
     "text": [
      "Enter your name:chandresh\n",
      "try executed without any error.\n",
      "Form submitted successfully.\n"
     ]
    }
   ],
   "source": [
    "try:\n",
    "    a=input(\"Enter your name:\")\n",
    "    \n",
    "except FileNotFoundError:\n",
    "    print(\"please reupload this file\")\n",
    "except NameError:\n",
    "    print(\"b is not defined\")\n",
    "    print(NameError)\n",
    "except Exception:\n",
    "    print(\"something went wrong\")\n",
    "    print(Exception)\n",
    "else:\n",
    "    print(\"try executed without any error.\")\n",
    "    print(\"Form submitted successfully.\")"
   ]
  },
  {
   "cell_type": "code",
   "execution_count": 7,
   "metadata": {},
   "outputs": [
    {
     "name": "stdout",
     "output_type": "stream",
     "text": [
      "Enter your name:f\n",
      "please enter valid name\n",
      "<class 'Exception'>\n"
     ]
    }
   ],
   "source": [
    "try:\n",
    "    a=input(\"Enter your name:\")\n",
    "    if(len(a)<3):\n",
    "        raise Exception\n",
    "except FileNotFoundError:\n",
    "    print(\"please reupload this file\")\n",
    "except NameError:\n",
    "    print(\"b is not defined\")\n",
    "    print(NameError)\n",
    "except Exception:\n",
    "    print(\"please enter valid name\")\n",
    "    print(Exception)\n",
    "else:\n",
    "    print(\"try executed without any error.\")\n",
    "    print(\"Form submitted successfully.\")\n"
   ]
  },
  {
   "cell_type": "code",
   "execution_count": 9,
   "metadata": {},
   "outputs": [
    {
     "name": "stdout",
     "output_type": "stream",
     "text": [
      "Enter your name:chandan\n",
      "try executed without any error.\n",
      "Form submitted successfully.\n",
      "It is always there\n"
     ]
    }
   ],
   "source": [
    "try:\n",
    "    a=input(\"Enter your name:\")\n",
    "    if(len(a)<3):\n",
    "        raise Exception\n",
    "except FileNotFoundError: # Specific Exception\n",
    "    print(\"please reupload this file\")\n",
    "except NameError:\n",
    "    print(\"b is not defined\")\n",
    "    print(NameError)\n",
    "except Exception:  # Generalise Exception\n",
    "    print(\"please enter valid name\")\n",
    "    print(Exception)\n",
    "else:\n",
    "    print(\"try executed without any error.\")\n",
    "    print(\"Form submitted successfully.\")\n",
    "finally:\n",
    "    print(\"It is always there\")"
   ]
  },
  {
   "cell_type": "code",
   "execution_count": 10,
   "metadata": {},
   "outputs": [
    {
     "name": "stdout",
     "output_type": "stream",
     "text": [
      "Enter your name:ab\n",
      "please enter valid name\n",
      "<class 'Exception'>\n",
      "It is always there\n"
     ]
    }
   ],
   "source": [
    "try:\n",
    "    a=input(\"Enter your name:\")\n",
    "    if(len(a)<3):\n",
    "        raise Exception\n",
    "except FileNotFoundError: # Specific Exception\n",
    "    print(\"please reupload this file\")\n",
    "except NameError:\n",
    "    print(\"b is not defined\")\n",
    "    print(NameError)\n",
    "except Exception:  # Generalise Exception\n",
    "    print(\"please enter valid name\")\n",
    "    print(Exception)\n",
    "else:\n",
    "    print(\"try executed without any error.\")\n",
    "    print(\"Form submitted successfully.\")\n",
    "finally:\n",
    "    print(\"It is always there\")"
   ]
  },
  {
   "cell_type": "code",
   "execution_count": null,
   "metadata": {},
   "outputs": [],
   "source": []
  }
 ],
 "metadata": {
  "kernelspec": {
   "display_name": "Python 3",
   "language": "python",
   "name": "python3"
  },
  "language_info": {
   "codemirror_mode": {
    "name": "ipython",
    "version": 3
   },
   "file_extension": ".py",
   "mimetype": "text/x-python",
   "name": "python",
   "nbconvert_exporter": "python",
   "pygments_lexer": "ipython3",
   "version": "3.5.3"
  }
 },
 "nbformat": 4,
 "nbformat_minor": 2
}
